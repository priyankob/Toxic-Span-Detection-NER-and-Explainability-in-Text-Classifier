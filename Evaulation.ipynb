{
 "cells": [
  {
   "cell_type": "code",
   "execution_count": 7,
   "id": "fb2b9544",
   "metadata": {},
   "outputs": [],
   "source": [
    "import numpy as np\n",
    "import pandas as pd\n",
    "import sklearn\n",
    "from sklearn.metrics import accuracy_score"
   ]
  },
  {
   "cell_type": "code",
   "execution_count": 2,
   "id": "cae71e3b",
   "metadata": {},
   "outputs": [
    {
     "data": {
      "text/plain": [
       "2000"
      ]
     },
     "execution_count": 2,
     "metadata": {},
     "output_type": "execute_result"
    }
   ],
   "source": [
    "test_data = pd.read_csv('tsd_test.csv')\n",
    "test_sentenses = test_data['text']\n",
    "len(test_sentenses)"
   ]
  },
  {
   "cell_type": "code",
   "execution_count": 3,
   "id": "b7e16114",
   "metadata": {},
   "outputs": [
    {
     "data": {
      "text/plain": [
       "2000"
      ]
     },
     "execution_count": 3,
     "metadata": {},
     "output_type": "execute_result"
    }
   ],
   "source": [
    "char_labels = []\n",
    "for index, row in test_data.iterrows():\n",
    "    spans_pos = list(map(int,row['spans'][1:-1].split(\",\"))) if len(row['spans'][1:-1])!=0 else []\n",
    "    char_label =  np.zeros((len(row['text']),), dtype=int)\n",
    "    char_label[spans_pos] =1\n",
    "    char_labels.append(char_label)\n",
    "len(char_labels)"
   ]
  },
  {
   "cell_type": "code",
   "execution_count": 8,
   "id": "fd822f5e",
   "metadata": {},
   "outputs": [],
   "source": [
    "import sklearn\n",
    "def f1(y_true, y_predict):\n",
    "    f1_scores = []\n",
    "    for i,prediction in enumerate(y_predict):\n",
    "\n",
    "        if sum(prediction) == 0 and sum(y_true[i]) ==0:\n",
    "            f1=1.0\n",
    "        else:\n",
    "            f1 = sklearn.metrics.f1_score(y_true[i], prediction)\n",
    "        f1_scores.append(f1)\n",
    "    f1_arr = np.array(f1_scores)\n",
    "    return f1_arr.mean(),f1_arr"
   ]
  },
  {
   "cell_type": "markdown",
   "id": "b9d1223e",
   "metadata": {},
   "source": [
    "# BERT-NER with Cross Entropy Loss result"
   ]
  },
  {
   "cell_type": "code",
   "execution_count": 11,
   "id": "334fb23b",
   "metadata": {},
   "outputs": [],
   "source": [
    "f = open(\"BERT-NER-CEL-result.txt\", \"r\")\n",
    "lines = f.readlines()\n",
    "result  = []\n",
    "for line in lines:\n",
    "    result.append(np.array(list(map(int,line[:-1].split(\",\")))))"
   ]
  },
  {
   "cell_type": "code",
   "execution_count": 12,
   "id": "1e639b9e",
   "metadata": {},
   "outputs": [],
   "source": [
    "score, f1_arr = f1(char_labels,result)"
   ]
  },
  {
   "cell_type": "code",
   "execution_count": 13,
   "id": "c81b30bd",
   "metadata": {},
   "outputs": [
    {
     "data": {
      "text/plain": [
       "0.6596689891366586"
      ]
     },
     "execution_count": 13,
     "metadata": {},
     "output_type": "execute_result"
    }
   ],
   "source": [
    "score"
   ]
  },
  {
   "cell_type": "markdown",
   "id": "0b957fc5",
   "metadata": {},
   "source": [
    "# BERT-NER with Dice Loss result¶"
   ]
  },
  {
   "cell_type": "code",
   "execution_count": 14,
   "id": "ad546c1a",
   "metadata": {},
   "outputs": [],
   "source": [
    "f = open(\"BERT-NER-DL-result.txt\", \"r\")\n",
    "lines = f.readlines()\n",
    "result  = []\n",
    "for line in lines:\n",
    "    result.append(np.array(list(map(int,line[:-1].split(\",\")))))"
   ]
  },
  {
   "cell_type": "code",
   "execution_count": 15,
   "id": "0b615af0",
   "metadata": {},
   "outputs": [],
   "source": [
    "score, f1_arr = f1(char_labels,result)"
   ]
  },
  {
   "cell_type": "code",
   "execution_count": 16,
   "id": "9802d7d6",
   "metadata": {},
   "outputs": [
    {
     "data": {
      "text/plain": [
       "0.6551207172363679"
      ]
     },
     "execution_count": 16,
     "metadata": {},
     "output_type": "execute_result"
    }
   ],
   "source": [
    "score"
   ]
  },
  {
   "cell_type": "markdown",
   "id": "4ba658d5",
   "metadata": {},
   "source": [
    "# SHAP Values based Classifier result"
   ]
  },
  {
   "cell_type": "code",
   "execution_count": 17,
   "id": "bae7c06a",
   "metadata": {},
   "outputs": [
    {
     "data": {
      "text/html": [
       "<div>\n",
       "<style scoped>\n",
       "    .dataframe tbody tr th:only-of-type {\n",
       "        vertical-align: middle;\n",
       "    }\n",
       "\n",
       "    .dataframe tbody tr th {\n",
       "        vertical-align: top;\n",
       "    }\n",
       "\n",
       "    .dataframe thead th {\n",
       "        text-align: right;\n",
       "    }\n",
       "</style>\n",
       "<table border=\"1\" class=\"dataframe\">\n",
       "  <thead>\n",
       "    <tr style=\"text-align: right;\">\n",
       "      <th></th>\n",
       "      <th>Unnamed: 0</th>\n",
       "      <th>sentence_idx</th>\n",
       "      <th>span</th>\n",
       "    </tr>\n",
       "  </thead>\n",
       "  <tbody>\n",
       "    <tr>\n",
       "      <th>0</th>\n",
       "      <td>1</td>\n",
       "      <td>0</td>\n",
       "      <td>[0 1 2 3]</td>\n",
       "    </tr>\n",
       "    <tr>\n",
       "      <th>1</th>\n",
       "      <td>23</td>\n",
       "      <td>0</td>\n",
       "      <td>[ 94  95  96  97  98  99 100]</td>\n",
       "    </tr>\n",
       "    <tr>\n",
       "      <th>2</th>\n",
       "      <td>24</td>\n",
       "      <td>0</td>\n",
       "      <td>[102]</td>\n",
       "    </tr>\n",
       "    <tr>\n",
       "      <th>3</th>\n",
       "      <td>25</td>\n",
       "      <td>0</td>\n",
       "      <td>[103 104]</td>\n",
       "    </tr>\n",
       "    <tr>\n",
       "      <th>4</th>\n",
       "      <td>26</td>\n",
       "      <td>0</td>\n",
       "      <td>[106 107 108]</td>\n",
       "    </tr>\n",
       "  </tbody>\n",
       "</table>\n",
       "</div>"
      ],
      "text/plain": [
       "   Unnamed: 0  sentence_idx                           span\n",
       "0           1             0                      [0 1 2 3]\n",
       "1          23             0  [ 94  95  96  97  98  99 100]\n",
       "2          24             0                          [102]\n",
       "3          25             0                      [103 104]\n",
       "4          26             0                  [106 107 108]"
      ]
     },
     "execution_count": 17,
     "metadata": {},
     "output_type": "execute_result"
    }
   ],
   "source": [
    "prediction_1 = pd.read_csv('submission1.csv')\n",
    "prediction_1.head()"
   ]
  },
  {
   "cell_type": "code",
   "execution_count": 18,
   "id": "bf14868c",
   "metadata": {},
   "outputs": [],
   "source": [
    "prediction_1.drop('Unnamed: 0',inplace=True,axis=1)"
   ]
  },
  {
   "cell_type": "code",
   "execution_count": 19,
   "id": "bf170c54",
   "metadata": {},
   "outputs": [
    {
     "data": {
      "text/html": [
       "<div>\n",
       "<style scoped>\n",
       "    .dataframe tbody tr th:only-of-type {\n",
       "        vertical-align: middle;\n",
       "    }\n",
       "\n",
       "    .dataframe tbody tr th {\n",
       "        vertical-align: top;\n",
       "    }\n",
       "\n",
       "    .dataframe thead th {\n",
       "        text-align: right;\n",
       "    }\n",
       "</style>\n",
       "<table border=\"1\" class=\"dataframe\">\n",
       "  <thead>\n",
       "    <tr style=\"text-align: right;\">\n",
       "      <th></th>\n",
       "      <th>sentence_idx</th>\n",
       "      <th>span</th>\n",
       "    </tr>\n",
       "  </thead>\n",
       "  <tbody>\n",
       "    <tr>\n",
       "      <th>0</th>\n",
       "      <td>0</td>\n",
       "      <td>[0 1 2 3]</td>\n",
       "    </tr>\n",
       "    <tr>\n",
       "      <th>1</th>\n",
       "      <td>0</td>\n",
       "      <td>[ 94  95  96  97  98  99 100]</td>\n",
       "    </tr>\n",
       "    <tr>\n",
       "      <th>2</th>\n",
       "      <td>0</td>\n",
       "      <td>[102]</td>\n",
       "    </tr>\n",
       "    <tr>\n",
       "      <th>3</th>\n",
       "      <td>0</td>\n",
       "      <td>[103 104]</td>\n",
       "    </tr>\n",
       "    <tr>\n",
       "      <th>4</th>\n",
       "      <td>0</td>\n",
       "      <td>[106 107 108]</td>\n",
       "    </tr>\n",
       "  </tbody>\n",
       "</table>\n",
       "</div>"
      ],
      "text/plain": [
       "   sentence_idx                           span\n",
       "0             0                      [0 1 2 3]\n",
       "1             0  [ 94  95  96  97  98  99 100]\n",
       "2             0                          [102]\n",
       "3             0                      [103 104]\n",
       "4             0                  [106 107 108]"
      ]
     },
     "execution_count": 19,
     "metadata": {},
     "output_type": "execute_result"
    }
   ],
   "source": [
    "prediction_1.head()"
   ]
  },
  {
   "cell_type": "code",
   "execution_count": 20,
   "id": "43ed51c9",
   "metadata": {},
   "outputs": [],
   "source": [
    "char_prediction_1 = []\n",
    "for index, row in test_data.iterrows():\n",
    "    char_prediction =  np.zeros((len(row['text']),), dtype=int)\n",
    "    \n",
    "    for index, row in prediction_1[prediction_1['sentence_idx']==index].iterrows():\n",
    "        spans_pos = list(map(int,row['span'][1:-1].split()))\n",
    "        char_prediction[spans_pos] =1\n",
    "    \n",
    "    char_prediction_1.append(char_prediction)\n",
    "    \n",
    "    "
   ]
  },
  {
   "cell_type": "code",
   "execution_count": 21,
   "id": "1f38e392",
   "metadata": {},
   "outputs": [
    {
     "data": {
      "text/plain": [
       "2000"
      ]
     },
     "execution_count": 21,
     "metadata": {},
     "output_type": "execute_result"
    }
   ],
   "source": [
    "len(char_prediction_1)"
   ]
  },
  {
   "cell_type": "code",
   "execution_count": 22,
   "id": "212e4371",
   "metadata": {},
   "outputs": [],
   "source": [
    "score, f1_arr = f1(char_labels,char_prediction_1)"
   ]
  },
  {
   "cell_type": "code",
   "execution_count": 23,
   "id": "84f2dedb",
   "metadata": {},
   "outputs": [
    {
     "data": {
      "text/plain": [
       "0.36471145841241664"
      ]
     },
     "execution_count": 23,
     "metadata": {},
     "output_type": "execute_result"
    }
   ],
   "source": [
    "score"
   ]
  }
 ],
 "metadata": {
  "kernelspec": {
   "display_name": "Python 3 (ipykernel)",
   "language": "python",
   "name": "python3"
  },
  "language_info": {
   "codemirror_mode": {
    "name": "ipython",
    "version": 3
   },
   "file_extension": ".py",
   "mimetype": "text/x-python",
   "name": "python",
   "nbconvert_exporter": "python",
   "pygments_lexer": "ipython3",
   "version": "3.9.12"
  }
 },
 "nbformat": 4,
 "nbformat_minor": 5
}
