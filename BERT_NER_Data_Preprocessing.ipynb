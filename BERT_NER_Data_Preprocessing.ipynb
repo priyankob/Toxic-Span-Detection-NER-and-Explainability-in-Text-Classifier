{
 "cells": [
  {
   "cell_type": "code",
   "execution_count": 1,
   "id": "66b2872d",
   "metadata": {},
   "outputs": [],
   "source": [
    "import pandas as pd\n",
    "import numpy as np"
   ]
  },
  {
   "cell_type": "code",
   "execution_count": 2,
   "id": "5f430e47",
   "metadata": {},
   "outputs": [],
   "source": [
    "o_data = pd.read_csv('data/tsd_train.csv')"
   ]
  },
  {
   "cell_type": "code",
   "execution_count": 3,
   "id": "973977b4",
   "metadata": {},
   "outputs": [
    {
     "data": {
      "text/html": [
       "<div>\n",
       "<style scoped>\n",
       "    .dataframe tbody tr th:only-of-type {\n",
       "        vertical-align: middle;\n",
       "    }\n",
       "\n",
       "    .dataframe tbody tr th {\n",
       "        vertical-align: top;\n",
       "    }\n",
       "\n",
       "    .dataframe thead th {\n",
       "        text-align: right;\n",
       "    }\n",
       "</style>\n",
       "<table border=\"1\" class=\"dataframe\">\n",
       "  <thead>\n",
       "    <tr style=\"text-align: right;\">\n",
       "      <th></th>\n",
       "      <th>spans</th>\n",
       "      <th>text</th>\n",
       "    </tr>\n",
       "  </thead>\n",
       "  <tbody>\n",
       "    <tr>\n",
       "      <th>0</th>\n",
       "      <td>[8, 9, 10, 11, 12, 13, 14, 15, 16, 17, 18, 19,...</td>\n",
       "      <td>Another violent and aggressive immigrant killi...</td>\n",
       "    </tr>\n",
       "    <tr>\n",
       "      <th>1</th>\n",
       "      <td>[33, 34, 35, 36, 37, 38, 39]</td>\n",
       "      <td>I am 56 years old, I am not your fucking junio...</td>\n",
       "    </tr>\n",
       "    <tr>\n",
       "      <th>2</th>\n",
       "      <td>[0, 1, 2, 3]</td>\n",
       "      <td>Damn, a whole family. Sad indeed.</td>\n",
       "    </tr>\n",
       "    <tr>\n",
       "      <th>3</th>\n",
       "      <td>[7, 8, 9, 10, 11, 12, 13, 14, 15, 16, 17]</td>\n",
       "      <td>What a knucklehead. How can anyone not know th...</td>\n",
       "    </tr>\n",
       "    <tr>\n",
       "      <th>4</th>\n",
       "      <td>[32, 33, 34, 35, 36, 37, 38]</td>\n",
       "      <td>\"who do you think should do the killing?\"\\n\\nA...</td>\n",
       "    </tr>\n",
       "  </tbody>\n",
       "</table>\n",
       "</div>"
      ],
      "text/plain": [
       "                                               spans  \\\n",
       "0  [8, 9, 10, 11, 12, 13, 14, 15, 16, 17, 18, 19,...   \n",
       "1                       [33, 34, 35, 36, 37, 38, 39]   \n",
       "2                                       [0, 1, 2, 3]   \n",
       "3          [7, 8, 9, 10, 11, 12, 13, 14, 15, 16, 17]   \n",
       "4                       [32, 33, 34, 35, 36, 37, 38]   \n",
       "\n",
       "                                                text  \n",
       "0  Another violent and aggressive immigrant killi...  \n",
       "1  I am 56 years old, I am not your fucking junio...  \n",
       "2                  Damn, a whole family. Sad indeed.  \n",
       "3  What a knucklehead. How can anyone not know th...  \n",
       "4  \"who do you think should do the killing?\"\\n\\nA...  "
      ]
     },
     "execution_count": 3,
     "metadata": {},
     "output_type": "execute_result"
    }
   ],
   "source": [
    "o_data.head()"
   ]
  },
  {
   "cell_type": "code",
   "execution_count": 60,
   "id": "735339b3",
   "metadata": {},
   "outputs": [
    {
     "data": {
      "text/plain": [
       "26"
      ]
     },
     "execution_count": 60,
     "metadata": {},
     "output_type": "execute_result"
    }
   ],
   "source": [
    "len(o_data.iloc[1]['spans'][1:-1])"
   ]
  },
  {
   "cell_type": "code",
   "execution_count": 48,
   "id": "3c92a2f9",
   "metadata": {},
   "outputs": [
    {
     "data": {
      "text/plain": [
       "'But, but, but, is NOT a defense.  It\\'s not even a good deflection.  In America today we have Nazis waving the Nazi flag at rallies in our cities. In what capacity does anyone think this is ok and who would not see that as a problem?\\n\\nEnough with the \"Well what about blah blah\" garbage.'"
      ]
     },
     "execution_count": 48,
     "metadata": {},
     "output_type": "execute_result"
    }
   ],
   "source": [
    "o_data.iloc[5]['text']"
   ]
  },
  {
   "cell_type": "code",
   "execution_count": 6,
   "id": "57bd4d2c",
   "metadata": {},
   "outputs": [
    {
     "data": {
      "text/html": [
       "<div>\n",
       "<style scoped>\n",
       "    .dataframe tbody tr th:only-of-type {\n",
       "        vertical-align: middle;\n",
       "    }\n",
       "\n",
       "    .dataframe tbody tr th {\n",
       "        vertical-align: top;\n",
       "    }\n",
       "\n",
       "    .dataframe thead th {\n",
       "        text-align: right;\n",
       "    }\n",
       "</style>\n",
       "<table border=\"1\" class=\"dataframe\">\n",
       "  <thead>\n",
       "    <tr style=\"text-align: right;\">\n",
       "      <th></th>\n",
       "      <th>spans</th>\n",
       "      <th>text</th>\n",
       "    </tr>\n",
       "  </thead>\n",
       "  <tbody>\n",
       "    <tr>\n",
       "      <th>0</th>\n",
       "      <td>[8, 9, 10, 11, 12, 13, 14, 15, 16, 17, 18, 19,...</td>\n",
       "      <td>Another violent and aggressive immigrant killi...</td>\n",
       "    </tr>\n",
       "    <tr>\n",
       "      <th>1</th>\n",
       "      <td>[33, 34, 35, 36, 37, 38, 39]</td>\n",
       "      <td>I am 56 years old, I am not your fucking junio...</td>\n",
       "    </tr>\n",
       "  </tbody>\n",
       "</table>\n",
       "</div>"
      ],
      "text/plain": [
       "                                               spans  \\\n",
       "0  [8, 9, 10, 11, 12, 13, 14, 15, 16, 17, 18, 19,...   \n",
       "1                       [33, 34, 35, 36, 37, 38, 39]   \n",
       "\n",
       "                                                text  \n",
       "0  Another violent and aggressive immigrant killi...  \n",
       "1  I am 56 years old, I am not your fucking junio...  "
      ]
     },
     "execution_count": 6,
     "metadata": {},
     "output_type": "execute_result"
    }
   ],
   "source": [
    "o_data[0:2]"
   ]
  },
  {
   "cell_type": "code",
   "execution_count": null,
   "id": "0dd4a160",
   "metadata": {},
   "outputs": [],
   "source": [
    "#data = pd.DataFrame(columns=['Sentence #','Word','POS','Tag'])\n",
    "t = []"
   ]
  },
  {
   "cell_type": "code",
   "execution_count": 123,
   "id": "2c3dc7b1",
   "metadata": {},
   "outputs": [],
   "source": [
    "t = []\n",
    "for index, row in o_data.iterrows():\n",
    "    sent = index+1\n",
    "    word = \"\"\n",
    "    span_word = \"\"\n",
    "    spans_pos = list(map(int,row['spans'][1:-1].split(\",\"))) if len(row['spans'][1:-1])!=0 else []\n",
    "    text = row['text'].replace(\"\\n\", \" \")\n",
    "    for pos,char in enumerate(text):\n",
    "        if pos in spans_pos:\n",
    "            if word != \"\":\n",
    "                #print(\"w\" + \" \"+word)\n",
    "                t.append((sent,word.strip(),0,'O')) if span_word.strip() != '' else 0\n",
    "                word = \"\"\n",
    "            if char in (\" \") and span_word.strip() != \"\":\n",
    "                #print(\"s\" + \" \"+span_word.strip())\n",
    "                t.append((sent,span_word.strip(),0,'T')) if span_word.strip() != '' else 0\n",
    "                span_word = \"\"\n",
    "                continue\n",
    "            if char in (',','.','\"','?'):\n",
    "                #print(\"s\" + \" \"+span_word.strip())#if not \"\"\n",
    "                t.append((sent,span_word.strip(),0,'T')) if span_word.strip() != '' else 0\n",
    "                #print(\"s\" + \" \"+c)\n",
    "                t.append((sent,char,0,'T'))\n",
    "                span_word = \"\"\n",
    "                continue\n",
    "            span_word += char\n",
    "        else:\n",
    "            if span_word != \"\":\n",
    "                #print(\"s\" + \" \"+span_word)\n",
    "                t.append((sent,span_word.strip(),0,'T')) if span_word.strip() != '' else 0\n",
    "                span_word = \"\"\n",
    "            if char in (\" \") and word.strip() != \"\":\n",
    "                #print(\"w\" + \" \"+word.strip())\n",
    "                t.append((sent,word.strip(),0,'O')) if word.strip() != '' else 0\n",
    "                word = \"\"\n",
    "                continue\n",
    "            if char in (',','.','\"','?'):\n",
    "                #print(\"w\" + \" \"+word.strip())#if not \"\"\n",
    "                t.append((sent,word.strip(),0,'O')) if word.strip() != '' else 0\n",
    "                #print(\"w\" + \" \"+c)\n",
    "                t.append((sent,char,0,'O'))\n",
    "                word = \"\"\n",
    "                continue\n",
    "            word += char\n",
    "\n",
    "    if span_word.strip() != \"\":\n",
    "        #print(\"s\" + \" \"+span_word)\n",
    "        t.append((sent,span_word.strip(),0,'T'))\n",
    "    if word.strip() != \"\":\n",
    "        #print(\"w\" + \" \"+word)\n",
    "        t.append((sent,word.strip(),0,'O'))\n"
   ]
  },
  {
   "cell_type": "code",
   "execution_count": 124,
   "id": "6f0fca00",
   "metadata": {},
   "outputs": [],
   "source": [
    "data = pd.DataFrame(t)"
   ]
  },
  {
   "cell_type": "code",
   "execution_count": 125,
   "id": "b3849ea7",
   "metadata": {},
   "outputs": [],
   "source": [
    "data.to_csv('data/tag_data.csv',index=False,header=['Sentence #','Word','POS','Tag'])"
   ]
  },
  {
   "cell_type": "code",
   "execution_count": 128,
   "id": "9f767897",
   "metadata": {},
   "outputs": [
    {
     "data": {
      "text/plain": [
       "329096"
      ]
     },
     "execution_count": 128,
     "metadata": {},
     "output_type": "execute_result"
    }
   ],
   "source": [
    "data.shape[0]"
   ]
  },
  {
   "cell_type": "code",
   "execution_count": null,
   "id": "d1e26ad1",
   "metadata": {},
   "outputs": [],
   "source": []
  }
 ],
 "metadata": {
  "kernelspec": {
   "display_name": "Python 3 (ipykernel)",
   "language": "python",
   "name": "python3"
  },
  "language_info": {
   "codemirror_mode": {
    "name": "ipython",
    "version": 3
   },
   "file_extension": ".py",
   "mimetype": "text/x-python",
   "name": "python",
   "nbconvert_exporter": "python",
   "pygments_lexer": "ipython3",
   "version": "3.9.12"
  }
 },
 "nbformat": 4,
 "nbformat_minor": 5
}
